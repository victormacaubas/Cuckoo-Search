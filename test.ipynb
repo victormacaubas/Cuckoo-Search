{
 "cells": [
  {
   "cell_type": "markdown",
   "metadata": {},
   "source": [
    "## Cuckoo Search\n",
    "\n",
    "- Implementação do algoritmo na resolução dos quatro problemas de teste abaixo:\n",
    "\n",
    "    Rastrigin\n",
    "    Rosenbrock\n",
    "    Ackley\n",
    "    Esfera\n",
    "\n",
    "Utilizamos alpha = 1 e Pa = 0.25"
   ]
  },
  {
   "cell_type": "code",
   "execution_count": 1,
   "metadata": {},
   "outputs": [],
   "source": [
    "import numpy as np\n",
    "from cuckoo_search import CuckooSearch\n",
    "from optimization import Rastrigin, Rosenbrock, Ackley, Sphere"
   ]
  },
  {
   "cell_type": "markdown",
   "metadata": {},
   "source": [
    "## Rastrigin"
   ]
  },
  {
   "cell_type": "code",
   "execution_count": 2,
   "metadata": {},
   "outputs": [
    {
     "name": "stdout",
     "output_type": "stream",
     "text": [
      "Best Solution: [ 1.97887303 -0.03104874  0.11288168 -0.98401679  0.2178673  -1.22106662\n",
      "  1.70056488  0.82445785  0.07258125  0.17463507]\n",
      "Best Fitness: 53.978713356509225\n"
     ]
    }
   ],
   "source": [
    "rastrigin_function = Rastrigin(dimension=10, lower_bound=-5.12, upper_bound=5.12)\n",
    "\n",
    "cs = CuckooSearch(rastrigin_function, population_size=50, max_iterations=1000)\n",
    "best_solution, best_fitness = cs.run()\n",
    "\n",
    "print(\"Best Solution:\", best_solution)\n",
    "print(\"Best Fitness:\", best_fitness)"
   ]
  },
  {
   "cell_type": "markdown",
   "metadata": {},
   "source": [
    "## Rosenbrock"
   ]
  },
  {
   "cell_type": "code",
   "execution_count": 3,
   "metadata": {},
   "outputs": [
    {
     "name": "stdout",
     "output_type": "stream",
     "text": [
      "Best Solution for Rosenbrock Problem: [0.99998085 0.99998085 0.99998085 0.99998085 0.99998085 0.99998085\n",
      " 0.99998085 0.99998085 0.99998085 0.99998085]\n",
      "Best Fitness for Rosenbrock Problem: 3.3318292728948987e-07\n"
     ]
    }
   ],
   "source": [
    "rosebrock_problem = Rosenbrock(dimension=10, lower_bound=-2, upper_bound=2)\n",
    "\n",
    "cs = CuckooSearch(rosebrock_problem, population_size=50, max_iterations=1000)\n",
    "best_solution, best_fitness = cs.run()\n",
    "\n",
    "print(\"Best Solution for Rosenbrock Problem:\", best_solution)\n",
    "print(\"Best Fitness for Rosenbrock Problem:\", best_fitness)"
   ]
  },
  {
   "cell_type": "markdown",
   "metadata": {},
   "source": [
    "## Ackley"
   ]
  },
  {
   "cell_type": "code",
   "execution_count": 4,
   "metadata": {},
   "outputs": [
    {
     "name": "stdout",
     "output_type": "stream",
     "text": [
      "Best Solution for Ackley Problem: [-0.76065493  0.67069424 -0.31253171 -0.02044435 -0.34041394  0.06270792\n",
      " -1.5112406   0.29316021  0.00774415  1.37147405]\n",
      "Best Fitness for Ackley Problem: 4.511346545606508\n"
     ]
    }
   ],
   "source": [
    "ackley_problem = Ackley(dimension=10, lower_bound=-5, upper_bound=5)\n",
    "\n",
    "cs_ackley = CuckooSearch(ackley_problem, population_size=50, max_iterations=1000)\n",
    "best_solution_ackley, best_fitness_ackley = cs_ackley.run()\n",
    "\n",
    "print(\"Best Solution for Ackley Problem:\", best_solution_ackley)\n",
    "print(\"Best Fitness for Ackley Problem:\", best_fitness_ackley)"
   ]
  },
  {
   "cell_type": "markdown",
   "metadata": {},
   "source": [
    "## Sphere"
   ]
  },
  {
   "cell_type": "code",
   "execution_count": 5,
   "metadata": {},
   "outputs": [
    {
     "name": "stdout",
     "output_type": "stream",
     "text": [
      "Best Solution for Sphere Problem: [ 1.29150129  0.55376495  0.99319342  0.07669198 -0.78998197  0.72392391\n",
      " -1.67332629 -0.6149113  -0.4847745  -0.07476942]\n",
      "Best Fitness for Sphere Problem: 7.533816936904412\n"
     ]
    }
   ],
   "source": [
    "sphere_problem = Sphere(dimension=10, lower_bound=-5, upper_bound=5)\n",
    "\n",
    "cs_sphere = CuckooSearch(problem=sphere_problem, population_size=50, max_iterations=1000)\n",
    "best_solution_sphere, best_fitness_sphere = cs_sphere.run()\n",
    "\n",
    "print(\"Best Solution for Sphere Problem:\", best_solution_sphere)\n",
    "print(\"Best Fitness for Sphere Problem:\", best_fitness_sphere)"
   ]
  }
 ],
 "metadata": {
  "kernelspec": {
   "display_name": "Python 3",
   "language": "python",
   "name": "python3"
  },
  "language_info": {
   "codemirror_mode": {
    "name": "ipython",
    "version": 3
   },
   "file_extension": ".py",
   "mimetype": "text/x-python",
   "name": "python",
   "nbconvert_exporter": "python",
   "pygments_lexer": "ipython3",
   "version": "3.12.1"
  }
 },
 "nbformat": 4,
 "nbformat_minor": 2
}
