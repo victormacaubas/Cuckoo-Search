{
 "cells": [
  {
   "cell_type": "markdown",
   "metadata": {},
   "source": [
    "## Cuckoo Search\n",
    "\n",
    "- Implementação do algoritmo na resolução dos quatro problemas de teste abaixo:\n",
    "\n",
    "    Rastrigin\n",
    "    Rosenbrock\n",
    "    Ackley\n",
    "    Esfera\n",
    "\n",
    "Utilizamos alpha = 1 e Pa = 0.25"
   ]
  },
  {
   "cell_type": "code",
   "execution_count": null,
   "metadata": {},
   "outputs": [],
   "source": [
    "import numpy as np\n",
    "from cuckoo_search import CuckooSearch\n",
    "from optimization import Rastrigin, Rosenbrock, Ackley, Sphere"
   ]
  },
  {
   "cell_type": "markdown",
   "metadata": {},
   "source": [
    "## Rastrigin"
   ]
  },
  {
   "cell_type": "code",
   "execution_count": null,
   "metadata": {},
   "outputs": [],
   "source": [
    "rastrigin_function = Rastrigin(dimension=10, lower_bound=-5.12, upper_bound=5.12)\n",
    "\n",
    "cs = CuckooSearch(rastrigin_function, population_size=50, max_iterations=1000)\n",
    "best_solution, best_fitness = cs.run()\n",
    "\n",
    "print(\"Best Solution:\", best_solution)\n",
    "print(\"Best Fitness:\", best_fitness)"
   ]
  },
  {
   "cell_type": "markdown",
   "metadata": {},
   "source": [
    "## Rosenbrock"
   ]
  },
  {
   "cell_type": "code",
   "execution_count": null,
   "metadata": {},
   "outputs": [],
   "source": [
    "rosebrock_problem = Rosenbrock(dimension=10, lower_bound=-2, upper_bound=2)\n",
    "\n",
    "cs = CuckooSearch(rosebrock_problem, population_size=50, max_iterations=1000)\n",
    "best_solution, best_fitness = cs.run()\n",
    "\n",
    "print(\"Best Solution for Rosenbrock Problem:\", best_solution)\n",
    "print(\"Best Fitness for Rosenbrock Problem:\", best_fitness)"
   ]
  },
  {
   "cell_type": "markdown",
   "metadata": {},
   "source": [
    "## Ackley"
   ]
  },
  {
   "cell_type": "code",
   "execution_count": null,
   "metadata": {},
   "outputs": [],
   "source": [
    "ackley_problem = Ackley(dimension=10, lower_bound=-5, upper_bound=5)\n",
    "\n",
    "cs_ackley = CuckooSearch(ackley_problem, population_size=50, max_iterations=1000)\n",
    "best_solution_ackley, best_fitness_ackley = cs_ackley.run()\n",
    "\n",
    "print(\"Best Solution for Ackley Problem:\", best_solution_ackley)\n",
    "print(\"Best Fitness for Ackley Problem:\", best_fitness_ackley)"
   ]
  },
  {
   "cell_type": "markdown",
   "metadata": {},
   "source": [
    "## Sphere"
   ]
  },
  {
   "cell_type": "code",
   "execution_count": null,
   "metadata": {},
   "outputs": [],
   "source": [
    "sphere_problem = Sphere(dimension=10, lower_bound=-5, upper_bound=5)\n",
    "\n",
    "cs_sphere = CuckooSearch(problem=sphere_problem, population_size=50, max_iterations=1000)\n",
    "best_solution_sphere, best_fitness_sphere = cs_sphere.run()\n",
    "\n",
    "print(\"Best Solution for Sphere Problem:\", best_solution_sphere)\n",
    "print(\"Best Fitness for Sphere Problem:\", best_fitness_sphere)"
   ]
  }
 ],
 "metadata": {
  "language_info": {
   "name": "python"
  }
 },
 "nbformat": 4,
 "nbformat_minor": 2
}
